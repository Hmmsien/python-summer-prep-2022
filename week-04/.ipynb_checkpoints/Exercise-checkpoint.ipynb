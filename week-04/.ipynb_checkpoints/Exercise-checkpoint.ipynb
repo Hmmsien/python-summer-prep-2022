{
 "cells": [
  {
   "cell_type": "markdown",
   "metadata": {},
   "source": [
    "# List Overlap \n",
    "Write a program that returns a list that contains only the elements that are common between the lists (without duplicates). Make sure your program works on two lists of different sizes."
   ]
  },
  {
   "cell_type": "code",
   "execution_count": 5,
   "metadata": {},
   "outputs": [
    {
     "name": "stdout",
     "output_type": "stream",
     "text": [
      "{1, 2, 3, 5, 8, 13}\n"
     ]
    }
   ],
   "source": [
    "a = [1, 1, 2, 3, 5, 8, 13, 21, 34, 55, 89]\n",
    "b = [1, 2, 3, 4, 5, 6, 7, 8, 9, 10, 11, 12, 13]\n",
    "\n",
    "output_list = []\n",
    "\n",
    "for num in a:\n",
    "    if num in b:\n",
    "        output_list.append(num)\n",
    "\n",
    "print(set(output_list))\n",
    "\n"
   ]
  },
  {
   "cell_type": "code",
   "execution_count": 10,
   "metadata": {},
   "outputs": [
    {
     "data": {
      "text/plain": [
       "[1, 2, 3, 5, 8, 13]"
      ]
     },
     "execution_count": 10,
     "metadata": {},
     "output_type": "execute_result"
    }
   ],
   "source": [
    "list(set(a).intersection(b))"
   ]
  },
  {
   "cell_type": "markdown",
   "metadata": {},
   "source": [
    "# Rock Paper Scissors\n",
    "\n",
    "Make a two-player Rock-Paper-Scissors game. (Hint: Ask for player plays (using input), compare them, print out a message of congratulations to the winner.)\n",
    "\n",
    "Remember the rules:\n",
    "\n",
    "* Rock beats scissors\n",
    "* Scissors beats paper\n",
    "* Paper beats rock"
   ]
  },
  {
   "cell_type": "code",
   "execution_count": 12,
   "metadata": {},
   "outputs": [
    {
     "name": "stdout",
     "output_type": "stream",
     "text": [
      "player 1 choose: Rock\n",
      "player 2 choose: Scissors\n",
      "Congradulation player 1\n"
     ]
    }
   ],
   "source": [
    "\n",
    "def rock_paper_scissors (player1, player2):\n",
    "    if (player1 == 'Rock' and player2 == 'Scissors') or (player1 == 'Scissors' and player2 == 'Paper') or (player1 == 'Paper' and player2 == 'Rock'):\n",
    "        print(\"Congradulation player 1\")\n",
    "    elif player1 == player2:\n",
    "        print(\"Tie\")\n",
    "    else:\n",
    "        print(\"Congradulation player 2\")\n",
    "\n",
    "player1 = input('player 1 choose: ')\n",
    "player2 = input('player 2 choose: ')\n",
    "rock_paper_scissors(player1, player2)        "
   ]
  },
  {
   "cell_type": "markdown",
   "metadata": {},
   "source": [
    "# Palindrome \n",
    "\n",
    "Ask the user for a string and print out whether this string is a palindrome or not. (A palindrome is a string that reads the same forwards and backwards.)"
   ]
  },
  {
   "cell_type": "code",
   "execution_count": 11,
   "metadata": {},
   "outputs": [
    {
     "name": "stdout",
     "output_type": "stream",
     "text": [
      "enter a string: abbba\n",
      "The input string is palindrome\n"
     ]
    }
   ],
   "source": [
    "s = input('enter a string: ')\n",
    "\n",
    "if s == s[::-1]:\n",
    "    print('The input string is palindrome')\n",
    "else:\n",
    "    print('The input string is not palindrome')"
   ]
  },
  {
   "cell_type": "markdown",
   "metadata": {},
   "source": [
    "# Password Generator\n",
    "Write a password generator in Python. Be creative with how you generate passwords - strong passwords have a mix of lowercase letters, uppercase letters, numbers, and symbols. The passwords should be random.  Ask the user to input how long they want their password to be. "
   ]
  },
  {
   "cell_type": "code",
   "execution_count": 11,
   "metadata": {},
   "outputs": [
    {
     "name": "stdout",
     "output_type": "stream",
     "text": [
      "The length of password: 3\n",
      "b?%\n"
     ]
    }
   ],
   "source": [
    "import random\n",
    "chars = \"abcdefghijklmnopqrstuvwxyz01234567890ABCDEFGHIJKLMNOPQRSTUVWXYZ!@#$%^&*()?\"\n",
    "\n",
    "length = input('The length of password: ')\n",
    "password = []\n",
    "\n",
    "for i in range(int(length)):\n",
    "    password.append(random.choice(chars))\n",
    "    \n",
    "print(''.join(password))\n",
    "        \n",
    "\n"
   ]
  },
  {
   "cell_type": "markdown",
   "metadata": {},
   "source": [
    "# Divisors Solutions\n",
    "\n",
    "Create a program that asks the user for a number and then prints out a list of all the divisors of that number. (If you don’t know what a divisor is, it is a number that divides evenly into another number. For example, 13 is a divisor of 26 because 26 / 13 has no remainder.)"
   ]
  },
  {
   "cell_type": "code",
   "execution_count": 14,
   "metadata": {},
   "outputs": [
    {
     "name": "stdout",
     "output_type": "stream",
     "text": [
      "Enter a number: 18\n",
      "[1, 2, 3, 6, 9]\n"
     ]
    }
   ],
   "source": [
    "num = int(input(\"Enter a number: \"))\n",
    "res = []\n",
    "\n",
    "for i in range(num):\n",
    "    if i != 0 and num != 0:\n",
    "        if num % i == 0:\n",
    "            res.append(i)\n",
    "        \n",
    "print(res)"
   ]
  },
  {
   "cell_type": "markdown",
   "metadata": {},
   "source": [
    "# Missing Character\n",
    "Given a non-empty string and an int n, return a new string where the char at index n has been removed. The value of n will be a valid index of a char in the original string (i.e. n will be in the range 0..len(str)-1 inclusive).\n",
    "\n",
    "```\n",
    "missing_char('kitten', 1) → 'ktten'\n",
    "missing_char('kitten', 0) → 'itten'\n",
    "missing_char('kitten', 4) → 'kittn'\n",
    "\n",
    "```"
   ]
  },
  {
   "cell_type": "code",
   "execution_count": 18,
   "metadata": {},
   "outputs": [
    {
     "name": "stdout",
     "output_type": "stream",
     "text": [
      "ktten\n",
      "kittn\n"
     ]
    }
   ],
   "source": [
    "def missing_char(word, n):\n",
    "    new_word= word[:n]+ word[n+1:]\n",
    "    return(new_word)\n",
    "\n",
    "print(missing_char('kitten', 1))\n",
    "print(missing_char('kitten', 4))"
   ]
  },
  {
   "cell_type": "markdown",
   "metadata": {},
   "source": [
    "# Centered Average\n",
    "\n",
    "Return the \"centered\" average of an array of ints, which we'll say is the mean average of the values, except ignoring the largest and smallest values in the array. If there are multiple copies of the smallest value, ignore just one copy, and likewise for the largest value.  You may assume that the array is length 3 or more and will never contain negative values. \n",
    "* Round your answer to the nearest whole number.\n",
    "\n",
    "```\n",
    "centered_average([1, 2, 3, 4, 100]) → 3\n",
    "centered_average([1, 1, 5, 5, 10, 8, 7]) → 5\n",
    "```"
   ]
  },
  {
   "cell_type": "code",
   "execution_count": 25,
   "metadata": {},
   "outputs": [
    {
     "name": "stdout",
     "output_type": "stream",
     "text": [
      "54\n",
      "3\n",
      "5\n"
     ]
    }
   ],
   "source": [
    "example_list = [100, 100, 50, 75, 50, 25, 25, 25]\n",
    "\n",
    "def centered_average(nums):\n",
    "    nums.remove(max(nums))\n",
    "    nums.remove(min(nums))\n",
    "    \n",
    "    total = 0\n",
    "    for element in nums:\n",
    "        total += element\n",
    "        \n",
    "    return round(total/len(nums))\n",
    "\n",
    "print(centered_average(example_list))\n",
    "print(centered_average([1, 2, 3, 4, 100]))\n",
    "print(centered_average([1, 1, 5, 5, 10, 8, 7]))"
   ]
  },
  {
   "cell_type": "code",
   "execution_count": null,
   "metadata": {},
   "outputs": [],
   "source": []
  }
 ],
 "metadata": {
  "kernelspec": {
   "display_name": "Python 3 (ipykernel)",
   "language": "python",
   "name": "python3"
  },
  "language_info": {
   "codemirror_mode": {
    "name": "ipython",
    "version": 3
   },
   "file_extension": ".py",
   "mimetype": "text/x-python",
   "name": "python",
   "nbconvert_exporter": "python",
   "pygments_lexer": "ipython3",
   "version": "3.9.12"
  }
 },
 "nbformat": 4,
 "nbformat_minor": 4
}
