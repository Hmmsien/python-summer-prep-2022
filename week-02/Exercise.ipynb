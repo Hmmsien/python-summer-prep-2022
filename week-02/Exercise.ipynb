{
 "cells": [
  {
   "cell_type": "markdown",
   "metadata": {},
   "source": [
    "# Problem Alphabet Slices\n",
    "* Store the first ten letters of the alphabet in a list.\n",
    "* Use a slice to print out the first three letters of the alphabet.\n",
    "* Use a slice to print out any three letters from the middle of your list."
   ]
  },
  {
   "cell_type": "code",
   "execution_count": 15,
   "metadata": {},
   "outputs": [
    {
     "name": "stdout",
     "output_type": "stream",
     "text": [
      "First three letters are:  ['a', 'b', 'c']\n",
      "Any three letters from the middle of list are: ['d', 'e', 'f']\n"
     ]
    }
   ],
   "source": [
    "# Solve Alphabet slices here. \n",
    "my_list = ['a', 'b', 'c', 'd', 'e', 'f', 'g', 'h', 'i', 'j']\n",
    "\n",
    "first_three = my_list[0:3]\n",
    "print('First three letters are: ', first_three)\n",
    "\n",
    "middle_three = my_list[3:6]\n",
    "print('Any three letters from the middle of list are:', middle_three)\n",
    "\n"
   ]
  },
  {
   "cell_type": "markdown",
   "metadata": {},
   "source": [
    "# Problem:  Covert all the rapper names to title case and save them into a new different list. \n",
    "example: lil wayne becomes Lil Wayne"
   ]
  },
  {
   "cell_type": "code",
   "execution_count": 17,
   "metadata": {},
   "outputs": [
    {
     "name": "stdout",
     "output_type": "stream",
     "text": [
      "Lil Wayne\n",
      "Nicki Minaj\n",
      "Drake\n"
     ]
    }
   ],
   "source": [
    "# Solve rapper names here\n",
    "rappers = ['lil wayne', 'nicki minaj', 'drake']\n",
    "\n",
    "my_list = []\n",
    "for name in rappers:\n",
    "    my_list.append(name.title())\n",
    "\n",
    "for title_name in my_list:\n",
    "    print(title_name)\n",
    "\n"
   ]
  },
  {
   "cell_type": "markdown",
   "metadata": {},
   "source": [
    "# Problem: Write a function thats input is a number and output is:\n",
    "* Return True if the input number is even.\n",
    "* Return False if the input number is odd."
   ]
  },
  {
   "cell_type": "code",
   "execution_count": 18,
   "metadata": {},
   "outputs": [],
   "source": [
    "# Solve problem here\n",
    "def isEven(num):\n",
    "    if (num % 2) == 0 :\n",
    "        return True\n",
    "    else:\n",
    "        return False\n"
   ]
  },
  {
   "cell_type": "markdown",
   "metadata": {},
   "source": [
    "# Problem: Find the sum and the average of this list of numbers.\n",
    "\n",
    "Try doing this using a loop.  Then try doing this without using a loop. "
   ]
  },
  {
   "cell_type": "code",
   "execution_count": 28,
   "metadata": {},
   "outputs": [
    {
     "name": "stdout",
     "output_type": "stream",
     "text": [
      "Find sum and avg using loop: 353.0 35.3\n",
      "Find sum and avg using sum() method: 353 35.3\n"
     ]
    }
   ],
   "source": [
    "# Solve problem here:\n",
    "\n",
    "my_list = [1, 5, 10, 55, 88, 44, 42, 50, 20, 38]\n",
    "list_sum = 0.0\n",
    "list_avg = 0.0\n",
    "\n",
    "# get sum using a loop\n",
    "for num in my_list:\n",
    "    list_sum += num\n",
    "list_avg = list_sum/len(my_list)\n",
    "\n",
    "# get sum method\n",
    "total = sum(my_list)\n",
    "avg = total/len(my_list)\n",
    "\n",
    "# Keep this as your last line in this cell.\n",
    "print('Find sum and avg using loop:', list_sum, list_avg)\n",
    "print('Find sum and avg using sum() method:',total,avg)\n"
   ]
  },
  {
   "cell_type": "markdown",
   "metadata": {},
   "source": [
    "# Problem: Write a function that input is a number and output returns the following\n",
    "* If the input is divisible by three, return 'fizz'\n",
    "* If the input is divisible by five, return 'buzz'\n",
    "* If the input is divisible by three and by five, return 'fizzbuzz'\n",
    "* If the input is not divisible by three or five, return None."
   ]
  },
  {
   "cell_type": "code",
   "execution_count": 10,
   "metadata": {},
   "outputs": [
    {
     "name": "stdout",
     "output_type": "stream",
     "text": [
      "fizz\n",
      "fizzbuzz\n",
      "buzz\n"
     ]
    }
   ],
   "source": [
    "# Solve Problem fizzbuzz here:\n",
    "def fizzbuzz(num): \n",
    "    if num % 3 == 0 and num % 5 == 0:\n",
    "        print('fizzbuzz')\n",
    "    elif num % 3 == 0:\n",
    "        print('fizz')\n",
    "    elif num % 5 == 0:\n",
    "        print('buzz')\n",
    "    else:\n",
    "        return None\n",
    "\n",
    "fizzbuzz(9)\n",
    "fizzbuzz(15)\n",
    "fizzbuzz(20)"
   ]
  },
  {
   "cell_type": "markdown",
   "metadata": {},
   "source": [
    "# Problem: \n",
    "Write a function that takes a list and returns a new list that contains all the elements of the first list minus all the duplicates.\n",
    "\n",
    "Example input and expected output\n",
    "\n",
    "input = [\"Michele\", \"Robin\", \"Sara\", \"Michele\"]\n",
    "\n",
    "expected output = ['Michele', 'Robin', 'Sara']\n"
   ]
  },
  {
   "cell_type": "code",
   "execution_count": 20,
   "metadata": {},
   "outputs": [
    {
     "name": "stdout",
     "output_type": "stream",
     "text": [
      "{'Michele', 'Sara', 'Robin'}\n"
     ]
    }
   ],
   "source": [
    "# Solve problem here:\n",
    "\n",
    "names = [\"Michele\", \"Robin\", \"Sara\", \"Michele\"]\n",
    "\n",
    "def removeDuplicate(names):\n",
    "    # using set which data structure that not allow duplicate element\n",
    "    uniqueNames = set()\n",
    "    \n",
    "    for ele in names:\n",
    "        uniqueNames.add(ele)\n",
    "        \n",
    "    return uniqueNames\n",
    "\n",
    "print(removeDuplicate(names))\n"
   ]
  },
  {
   "cell_type": "markdown",
   "metadata": {},
   "source": [
    "# Problem: \n",
    "Write a function that takes a list of numbers (for example, a = [5, 10, 15, 20, 25]) and returns a new list of only the first and last elements of the given list.\n",
    "\n",
    "Example input and expected output:\n",
    "\n",
    "input = [5, 10, 15, 20, 25]\n",
    "\n",
    "expected output = [5, 25]"
   ]
  },
  {
   "cell_type": "code",
   "execution_count": 22,
   "metadata": {},
   "outputs": [
    {
     "name": "stdout",
     "output_type": "stream",
     "text": [
      "[5, 25]\n"
     ]
    }
   ],
   "source": [
    "# Solve problem here:\n",
    "input_list = [5, 10, 99, 20, 25]\n",
    "output_list = []\n",
    "\n",
    "output_list.append(input_list[0])\n",
    "output_list.append(input_list[-1])\n",
    "\n",
    "print(output_list)"
   ]
  },
  {
   "cell_type": "markdown",
   "metadata": {},
   "source": [
    "# Problem:  Implement a function that takes as input three variables, and returns the largest of the three. \n",
    "Do this without using the Python max() function! \n",
    "_*Note all three input numbers will always be different, no need to account for a tie._\n",
    "\n",
    "Example input and expected output:\n",
    "\n",
    "input = your_function(1, 5, 10)\n",
    "\n",
    "expected output:  10"
   ]
  },
  {
   "cell_type": "code",
   "execution_count": 26,
   "metadata": {},
   "outputs": [
    {
     "name": "stdout",
     "output_type": "stream",
     "text": [
      "10\n"
     ]
    }
   ],
   "source": [
    "# Solve Problem here:\n",
    "\n",
    "def your_function(a, b, c):\n",
    "    # Fill in your code below and return max value of a, b, c\n",
    "    max = a\n",
    "    if b > max:\n",
    "        max = b\n",
    "    if c > max:\n",
    "        max = c\n",
    "        \n",
    "    return max\n",
    "        \n",
    "print(your_function(1, 5, 10))"
   ]
  },
  {
   "cell_type": "code",
   "execution_count": null,
   "metadata": {},
   "outputs": [],
   "source": [
    "# Test to see if your function works properly.\n",
    "your_function(1, 5, 10)"
   ]
  }
 ],
 "metadata": {
  "kernelspec": {
   "display_name": "Python 3 (ipykernel)",
   "language": "python",
   "name": "python3"
  },
  "language_info": {
   "codemirror_mode": {
    "name": "ipython",
    "version": 3
   },
   "file_extension": ".py",
   "mimetype": "text/x-python",
   "name": "python",
   "nbconvert_exporter": "python",
   "pygments_lexer": "ipython3",
   "version": "3.9.12"
  }
 },
 "nbformat": 4,
 "nbformat_minor": 4
}
